{
  "nbformat": 4,
  "nbformat_minor": 0,
  "metadata": {
    "colab": {
      "provenance": [],
      "include_colab_link": true
    },
    "kernelspec": {
      "name": "python3",
      "display_name": "Python 3"
    },
    "language_info": {
      "name": "python"
    }
  },
  "cells": [
    {
      "cell_type": "markdown",
      "metadata": {
        "id": "view-in-github",
        "colab_type": "text"
      },
      "source": [
        "<a href=\"https://colab.research.google.com/github/RationalTangle/compose_symphony_parser/blob/main/Harmony_v5.ipynb\" target=\"_parent\"><img src=\"https://colab.research.google.com/assets/colab-badge.svg\" alt=\"Open In Colab\"/></a>"
      ]
    },
    {
      "cell_type": "markdown",
      "source": [
        "# Start"
      ],
      "metadata": {
        "id": "CjKXOPzMkh9r"
      }
    },
    {
      "cell_type": "code",
      "source": [
        "!pip install -q condacolab\n",
        "import condacolab\n",
        "condacolab.install()"
      ],
      "metadata": {
        "id": "qTbivxTnFVHO"
      },
      "execution_count": null,
      "outputs": []
    },
    {
      "cell_type": "code",
      "execution_count": null,
      "metadata": {
        "id": "HWJ6Joib_MPQ"
      },
      "outputs": [],
      "source": [
        "#@title Install dependencies\n",
        "!rm -rf compose_symphony_parser\n",
        "!git clone https://github.com/RationalTangle/compose_symphony_parser.git\n",
        "!conda env create -f compose_symphony_parser/environment.yml\n",
        "!pip install -r compose_symphony_parser/requirements.txt > /dev/null"
      ]
    },
    {
      "cell_type": "code",
      "source": [
        "#@title Inputs\n",
        "symphony_id = \"n8Kiy3tje3CfH25500uO\" #@param {type:\"string\"}\n",
        "benchmark_ticker = \"SPY\" #@param {type:\"string\"}\n",
        "use_simulated_etf_dataset = True #@param {type:\"boolean\"}\n",
        "\n",
        "print(symphony_id, benchmark_ticker, use_simulated_etf_dataset)"
      ],
      "metadata": {
        "id": "HCKNd4pONd-d"
      },
      "execution_count": null,
      "outputs": []
    },
    {
      "cell_type": "code",
      "source": [
        "#@title Fetch Data and Compute Allocations\n",
        "from compose_symphony_parser.lib import symphony_object\n",
        "\n",
        "symphony = symphony_object.get_symphony(symphony_id)\n",
        "symphony_name = symphony['fields']['name']['stringValue']\n",
        "print(symphony_name)\n",
        "print(f\"https://app.composer.trade/symphony/{symphony_id}\")\n",
        "\n",
        "root_node = symphony_object.extract_root_node_from_symphony_response(symphony)\n",
        "\n",
        "from compose_symphony_parser.lib import traversers, get_backtest_data\n",
        "\n",
        "tickers = traversers.collect_referenced_assets(root_node)\n",
        "\n",
        "#\n",
        "# Get Data\n",
        "#\n",
        "import os\n",
        "try:\n",
        "  os.mkdir(\"data\")\n",
        "except FileExistsError:\n",
        "  pass\n",
        "\n",
        "closes = get_backtest_data.get_backtest_data(\n",
        "    tickers.union([benchmark_ticker]), use_simulated_etf_dataset)\n",
        "\n",
        "#\n",
        "# Execute logic\n",
        "#\n",
        "from compose_symphony_parser.lib import transpilers\n",
        "allocations, branch_tracker = transpilers.VectorBTTranspiler.execute(\n",
        "    root_node, closes)\n",
        "\n",
        "#\n",
        "# Allocation / Branch Reporting\n",
        "#\n",
        "logic_start = branch_tracker.index.min().date()\n",
        "allocations_possible_start = allocations.index.min().date()\n",
        "\n",
        "backtest_start = allocations.dropna().index.min().date()\n",
        "backtest_end = allocations.index.max().date()\n",
        "\n",
        "print(\n",
        "    f\"Logic can execute from {logic_start} ({len(branch_tracker.index)})\")\n",
        "print(\n",
        "    f\"Allocations can start {allocations_possible_start} ({len(allocations.index)})\")\n",
        "print(f\"Start: {backtest_start}\")\n",
        "print(f\"End: {backtest_end}\")\n",
        "print()\n",
        "\n",
        "allocations_aligned = allocations[allocations.index.date >= backtest_start]\n",
        "branch_tracker_aligned = branch_tracker[branch_tracker.index.date >= backtest_start]\n",
        "\n",
        "assert len(allocations_aligned) == len(branch_tracker_aligned)"
      ],
      "metadata": {
        "id": "Rd9eAAbbNgPe"
      },
      "execution_count": null,
      "outputs": []
    },
    {
      "cell_type": "code",
      "source": [
        "#@title Date Limitations\n",
        "for day, ticker in sorted([(closes[ticker].dropna().index.min().date(), ticker) for ticker in closes.columns], reverse=True):\n",
        "  print(f\"{ticker:<5} {day}\")\n"
      ],
      "metadata": {
        "cellView": "form",
        "id": "MLvisspduMcu"
      },
      "execution_count": null,
      "outputs": []
    },
    {
      "cell_type": "markdown",
      "source": [
        "# Branch Reporting"
      ],
      "metadata": {
        "id": "YjauOVgiUQMh"
      }
    },
    {
      "cell_type": "code",
      "source": [
        "#@title Sanity Checks\n",
        "branches_by_path = traversers.collect_branches(root_node)\n",
        "branches_by_leaf_node_id = {\n",
        "    key.split(\"/\")[-1]: value for key, value in branches_by_path.items()}\n",
        "\n",
        "# Any days without full allocation?\n",
        "# Branches involved in days where allocations fail to sum to 1\n",
        "if len(allocations_aligned[(allocations_aligned.sum(axis=1) - 1).abs() > 0.0001].index):\n",
        "    print(allocations_aligned[(allocations_aligned.sum(axis=1) - 1).abs() > 0.0001])\n",
        "    branches_by_failed_allocation_days = branch_tracker_aligned[(\n",
        "        allocations_aligned.sum(axis=1) - 1).abs() > 0.0001].sum(axis=0)\n",
        "    branches_with_failed_allocation_days = branches_by_failed_allocation_days[\n",
        "        branches_by_failed_allocation_days != 0].index.values\n",
        "\n",
        "    for branch_id in branches_with_failed_allocation_days:\n",
        "        print(f\"  -> id={branch_id} {branches_by_leaf_node_id[branch_id]}\")\n",
        "        print(allocations_aligned[branch_tracker_aligned[branch_id] == 1])\n",
        "\n",
        "    raise Exception(f\"Branches are misbehaving, please contact developer and provide the symphony ({symphony_id})\")\n",
        "else:\n",
        "    print(\"All days are 100% allocated.\")"
      ],
      "metadata": {
        "cellView": "form",
        "id": "LXKFkOmiOQIe"
      },
      "execution_count": null,
      "outputs": []
    },
    {
      "cell_type": "code",
      "source": [
        "#@title Ticker by days (weighted)\n",
        "ticker_allocation_weights = allocations.mean(\n",
        "    axis=0).sort_values(ascending=False)\n",
        "for ticker in ticker_allocation_weights.index:\n",
        "    print(f\"{ticker:<5} {ticker_allocation_weights[ticker]:>5.1%}\")"
      ],
      "metadata": {
        "cellView": "form",
        "id": "ky7MugI1XIm2"
      },
      "execution_count": null,
      "outputs": []
    },
    {
      "cell_type": "code",
      "source": [
        "#@title Branch by days activated\n",
        "backtest_days_count = len(branch_tracker)\n",
        "branch_enablement = branch_tracker.mean(\n",
        "    axis=0).sort_values(ascending=False)\n",
        "for branch_id in branch_enablement.index:\n",
        "    print(f\"{branch_enablement[branch_id]:>5.1%} ({branch_enablement[branch_id] * backtest_days_count:>4.0f} of {backtest_days_count})\",\n",
        "          branches_by_leaf_node_id[branch_id])"
      ],
      "metadata": {
        "cellView": "form",
        "id": "BVnsIlPLc_lw"
      },
      "execution_count": null,
      "outputs": []
    },
    {
      "cell_type": "markdown",
      "source": [
        "# Transpile Outputs"
      ],
      "metadata": {
        "id": "eAeyk0XXd_Ny"
      }
    },
    {
      "cell_type": "code",
      "source": [
        "#@title Human format\n",
        "from compose_symphony_parser.lib import transpilers\n",
        "\n",
        "root_node = symphony_object.extract_root_node_from_symphony_response(symphony)\n",
        "print(transpilers.HumanTextTranspiler.convert_to_string(root_node))"
      ],
      "metadata": {
        "cellView": "form",
        "id": "Dq98iGi-og3O"
      },
      "execution_count": null,
      "outputs": []
    },
    {
      "cell_type": "code",
      "source": [
        "#@title VectorBT code format\n",
        "print(transpilers.VectorBTTranspiler.convert_to_string(root_node))"
      ],
      "metadata": {
        "cellView": "form",
        "id": "JkBP4162eAD8"
      },
      "execution_count": null,
      "outputs": []
    },
    {
      "cell_type": "markdown",
      "source": [
        "# VectorBT"
      ],
      "metadata": {
        "id": "AMwnMr-SiKKo"
      }
    },
    {
      "cell_type": "code",
      "source": [
        "#@title Simulate Portfolio\n",
        "import vectorbt as vbt\n",
        "\n",
        "closes_aligned = closes[closes.index.date >=\n",
        "                            backtest_start].reindex_like(allocations)\n",
        "\n",
        "portfolio = vbt.Portfolio.from_orders(\n",
        "    close=closes_aligned,\n",
        "    size=allocations,\n",
        "    size_type=\"targetpercent\",\n",
        "    group_by=True,\n",
        "    cash_sharing=True,\n",
        "    call_seq=\"auto\",\n",
        "    # TODO: rebalancing\n",
        "    freq='D',\n",
        "    # TODO: work out Alpaca fees\n",
        "    fees=0,\n",
        ")"
      ],
      "metadata": {
        "id": "kQ_CiCcEiLdF",
        "cellView": "form"
      },
      "execution_count": null,
      "outputs": []
    },
    {
      "cell_type": "code",
      "source": [
        "#@title Quantstats of VectorBT simulation\n",
        "returns = portfolio.asset_returns()\n",
        "\n",
        "# Export Quantstats HTML Report\n",
        "import quantstats\n",
        "import google.colab\n",
        "\n",
        "keepcharacters = (' ', '.', '_', '-')\n",
        "filepath = f\"{symphony_name} - Harmony VectorBT.html\"\n",
        "filepath = filepath.replace(\"%\", 'pct ')\n",
        "filepath = \"\".join(c for c in filepath if c.isalnum() or c in keepcharacters).rstrip()\n",
        "quantstats.reports.html(\n",
        "    returns,\n",
        "    closes[benchmark_ticker].pct_change().dropna(),\n",
        "    title=f\"{symphony_name} - Harmony VectorBT\", output=filepath, download_filename=filepath)\n",
        "\n",
        "google.colab.files.download(filepath)"
      ],
      "metadata": {
        "id": "YNMI-PkdT2ZI",
        "cellView": "form"
      },
      "execution_count": null,
      "outputs": []
    },
    {
      "cell_type": "code",
      "source": [],
      "metadata": {
        "id": "yyG8qed-0R7_"
      },
      "execution_count": null,
      "outputs": []
    }
  ]
}